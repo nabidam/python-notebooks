{
 "cells": [
  {
   "cell_type": "markdown",
   "id": "23adf208",
   "metadata": {},
   "source": [
    "### Ask a virtual assistant\n",
    "\n",
    "As you work through this book, there are several ways you can use a virtual assistant or chatbot to help you learn.\n",
    "\n",
    "* If you want to learn more about a topic in the chapter, or anything is unclear, you can ask for an explanation.\n",
    "\n",
    "* If you are having a hard time with any of the exercises, you can ask for help.\n",
    "\n",
    "In each chapter, I'll suggest exercises you can do with a virtual assistant, but I encourage you to try things on your own and see what works for you."
   ]
  },
  {
   "cell_type": "markdown",
   "id": "ebf1a451",
   "metadata": {},
   "source": [
    "Here are some topics you could ask a virtual assistant about:\n",
    "\n",
    "* Earlier I mentioned bitwise operators but I didn't explain why the value of `7 ^ 2` is 5. Try asking \"What are the bitwise operators in Python?\" or \"What is the value of `7 XOR 2`?\"\n",
    "\n",
    "* I also mentioned the order of operations. For more details, ask \"What is the order of operations in Python?\"\n",
    "\n",
    "* The `round` function, which we used to round a floating-point number to the nearest integer, can take a second argument. Try asking \"What are the arguments of the round function?\" or \"How do I round pi off to three decimal places?\"\n",
    "\n",
    "* There's one more arithmetic operator I didn't mention; try asking \"What is the modulus operator in Python?\""
   ]
  },
  {
   "cell_type": "markdown",
   "id": "03c1ef93",
   "metadata": {},
   "source": [
    "### Exercise\n",
    "\n",
    "You might wonder what `round` does if a number ends in `0.5`.\n",
    "The answer is that it sometimes rounds up and sometimes rounds down.\n",
    "Try these examples and see if you can figure out what rule it follows."
   ]
  },
  {
   "cell_type": "code",
   "execution_count": null,
   "id": "5d358f37",
   "metadata": {},
   "outputs": [],
   "source": [
    "round(42.5)"
   ]
  },
  {
   "cell_type": "code",
   "execution_count": null,
   "id": "12aa59a3",
   "metadata": {},
   "outputs": [],
   "source": [
    "round(43.5)"
   ]
  },
  {
   "cell_type": "markdown",
   "id": "dd2f890e",
   "metadata": {},
   "source": [
    "If you are curious, ask a virtual assistant, \"If a number ends in 0.5, does Python round up or down?\""
   ]
  },
  {
   "cell_type": "markdown",
   "id": "2cd03bcb",
   "metadata": {},
   "source": [
    "### Exercise\n",
    "\n",
    "When you learn about a new feature, you should try it out and make mistakes on purpose.\n",
    "That way, you learn the error messages, and when you see them again, you will know what they mean.\n",
    "It is better to make mistakes now and deliberately than later and accidentally.\n",
    "\n",
    "1.  You can use a minus sign to make a negative number like `-2`. What happens if you put a plus sign before a number? What about `2++2`?\n",
    "\n",
    "2.  What happens if you have two values with no operator between them, like `4 2`?\n",
    "\n",
    "3.  If you call a function like `round(42.5)`, what happens if you leave out one or both parentheses?"
   ]
  },
  {
   "cell_type": "markdown",
   "id": "1fb0adfe",
   "metadata": {},
   "source": [
    "### Exercise\n",
    "\n",
    "Recall that every expression has a value, every value has a type, and we can use the `type` function to find the type of any value.\n",
    "\n",
    "What is the type of the value of the following expressions? Make your best guess for each one, and then use `type` to find out.\n",
    "\n",
    "* `765`\n",
    "\n",
    "* `2.718`\n",
    "\n",
    "* `'2 pi'`\n",
    "\n",
    "* `abs(-7)`\n",
    "\n",
    "* `abs(-7.0)`\n",
    "\n",
    "* `abs`\n",
    "\n",
    "* `int`\n",
    "\n",
    "* `type`"
   ]
  },
  {
   "cell_type": "markdown",
   "id": "23762eec",
   "metadata": {},
   "source": [
    "### Exercise\n",
    "\n",
    "The following questions give you a chance to practice writing arithmetic expressions.\n",
    "\n",
    "1.  How many seconds are there in 42 minutes 42 seconds?\n",
    "\n",
    "2.  How many miles are there in 10 kilometers? Hint: there are 1.61 kilometers in a mile.\n",
    "\n",
    "3.  If you run a 10 kilometer race in 42 minutes 42 seconds, what is your average pace in seconds per mile? \n",
    "    \n",
    "4.  What is your average pace in minutes and seconds per mile?\n",
    "\n",
    "5.  What is your average speed in miles per hour?\n",
    "\n",
    "If you already know about variables, you can use them for this exercise.\n",
    "If you don't, you can do the exercise without them -- and then we'll see them in the next chapter."
   ]
  },
  {
   "cell_type": "code",
   "execution_count": null,
   "id": "8fb50f30",
   "metadata": {},
   "outputs": [],
   "source": [
    "# Solution goes here"
   ]
  },
  {
   "cell_type": "code",
   "execution_count": null,
   "id": "5eceb4fb",
   "metadata": {},
   "outputs": [],
   "source": [
    "# Solution goes here"
   ]
  },
  {
   "cell_type": "code",
   "execution_count": null,
   "id": "fee97d8d",
   "metadata": {},
   "outputs": [],
   "source": [
    "# Solution goes here"
   ]
  },
  {
   "cell_type": "code",
   "execution_count": null,
   "id": "a998258c",
   "metadata": {},
   "outputs": [],
   "source": [
    "# Solution goes here"
   ]
  },
  {
   "cell_type": "code",
   "execution_count": null,
   "id": "2e0fc7a9",
   "metadata": {},
   "outputs": [],
   "source": [
    "# Solution goes here"
   ]
  },
  {
   "cell_type": "code",
   "execution_count": null,
   "id": "d25268d8",
   "metadata": {},
   "outputs": [],
   "source": [
    "# Solution goes here"
   ]
  },
  {
   "cell_type": "code",
   "execution_count": null,
   "id": "523d9b0f",
   "metadata": {},
   "outputs": [],
   "source": [
    "# Solution goes here"
   ]
  },
  {
   "cell_type": "code",
   "execution_count": null,
   "id": "ca083ccf",
   "metadata": {},
   "outputs": [],
   "source": []
  }
 ],
 "metadata": {
  "celltoolbar": "Tags",
  "kernelspec": {
   "display_name": "Python 3 (ipykernel)",
   "language": "python",
   "name": "python3"
  },
  "language_info": {
   "codemirror_mode": {
    "name": "ipython",
    "version": 3
   },
   "file_extension": ".py",
   "mimetype": "text/x-python",
   "name": "python",
   "nbconvert_exporter": "python",
   "pygments_lexer": "ipython3",
   "version": "3.12.7"
  }
 },
 "nbformat": 4,
 "nbformat_minor": 5
}
