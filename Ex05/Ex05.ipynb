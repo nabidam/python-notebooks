{
 "cells": [
  {
   "cell_type": "markdown",
   "metadata": {},
   "source": [
    "کلاس دانش‌آموز را طوری بسازید که در سازنده‌اش فقط نام دانش آموز را بگیرد.\n",
    "\n",
    "سپس یک متد برای دریاخت و ذخیره نمره‌هایش بنویسد. این متد را طوری بنویسید که بتوان به تعداد نامحدود صدا زد و نمره جدید اضافه کرد.\n",
    "\n",
    "یک متد برای محاسبه میانگین نمراتش بنویسید. هر زمان که این متد صدا زده شد، میانگین تمام نمراتش تا این لحظه را باز گرداند.\n",
    "\n",
    "یک متد برای ریست کردن نمره‌هایش (خالی کردن لیست نمراتش) بنویسید.\n",
    "\n",
    "یک متد هم برای نمایش لیست نمراتش به همراه زمان دقیق اضافه شدن نمراتش بنویسید."
   ]
  },
  {
   "cell_type": "markdown",
   "metadata": {},
   "source": [
    "ساختار کلاس به صورت زیر است، شما منطق توابع را بنویسید."
   ]
  },
  {
   "cell_type": "code",
   "execution_count": null,
   "metadata": {},
   "outputs": [],
   "source": [
    "class Student:\n",
    "    def __init__(self, name):\n",
    "        # your code\n",
    "        pass\n",
    "    \n",
    "    def add_score(self, score: int):\n",
    "        # your code\n",
    "        pass\n",
    "    \n",
    "    def report_avg(self):\n",
    "        # your code\n",
    "        pass\n",
    "    \n",
    "    def reset_scores(self):\n",
    "        # your code\n",
    "        pass\n",
    "    \n",
    "    def show_scores(self):\n",
    "        # your code\n",
    "        pass"
   ]
  }
 ],
 "metadata": {
  "language_info": {
   "name": "python"
  }
 },
 "nbformat": 4,
 "nbformat_minor": 2
}
