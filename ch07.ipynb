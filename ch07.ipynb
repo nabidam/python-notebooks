{
 "cells": [
  {
   "cell_type": "markdown",
   "metadata": {},
   "source": [
    "## دستورات شرطی"
   ]
  },
  {
   "cell_type": "code",
   "execution_count": 1,
   "metadata": {},
   "outputs": [],
   "source": [
    "a = 10\n",
    "b = 20\n",
    "c = True\n",
    "d = False\n",
    "e = \"Hello\"\n",
    "f = [1, 2, 3]"
   ]
  },
  {
   "cell_type": "code",
   "execution_count": null,
   "metadata": {},
   "outputs": [],
   "source": [
    "if a < b:\n",
    "    print(f\"{a} < {b} => {a < b}\")"
   ]
  },
  {
   "cell_type": "code",
   "execution_count": null,
   "metadata": {},
   "outputs": [],
   "source": [
    "if c:\n",
    "    print(f\"c is {c}\")"
   ]
  },
  {
   "cell_type": "code",
   "execution_count": 5,
   "metadata": {},
   "outputs": [],
   "source": [
    "if d:\n",
    "    print(f\"d is {d}\")"
   ]
  },
  {
   "cell_type": "code",
   "execution_count": 6,
   "metadata": {},
   "outputs": [],
   "source": [
    "if e == 1:\n",
    "    print(\"e is equal to 1\")"
   ]
  },
  {
   "cell_type": "code",
   "execution_count": null,
   "metadata": {},
   "outputs": [],
   "source": [
    "if len(e) == 5:\n",
    "    print(f\"len(e) = {len(e)}\")"
   ]
  },
  {
   "cell_type": "code",
   "execution_count": null,
   "metadata": {},
   "outputs": [],
   "source": [
    "if len(f) == 3:\n",
    "    print(f\"len(f) = {len(f)}\")"
   ]
  },
  {
   "cell_type": "code",
   "execution_count": null,
   "metadata": {},
   "outputs": [],
   "source": [
    "if f[2] == 3:\n",
    "    print(f\"f[2] is equal 3\")"
   ]
  },
  {
   "cell_type": "code",
   "execution_count": null,
   "metadata": {},
   "outputs": [],
   "source": [
    "if f[5] == 6:\n",
    "    print(f\"f[5] is equal 6\")"
   ]
  },
  {
   "cell_type": "code",
   "execution_count": null,
   "metadata": {},
   "outputs": [],
   "source": [
    "if a > b:\n",
    "    print(f\"{a} > {b} => {a > b}\")\n",
    "else:\n",
    "    print(f\"{a} > {b} => {a > b}\")"
   ]
  },
  {
   "cell_type": "code",
   "execution_count": null,
   "metadata": {},
   "outputs": [],
   "source": [
    "age = input(\"Enter your age: \")"
   ]
  },
  {
   "cell_type": "code",
   "execution_count": null,
   "metadata": {},
   "outputs": [],
   "source": [
    "if age < 30:\n",
    "    print(\"Your age is below 30.\")\n",
    "else:\n",
    "    print(\"Your age above 30.\")"
   ]
  },
  {
   "cell_type": "code",
   "execution_count": null,
   "metadata": {},
   "outputs": [],
   "source": [
    "if age < 10:\n",
    "    print(\"You are below 10.\")\n",
    "elif age < 20:\n",
    "    print(\"You are between 10 and 20 (10 < age < 20)\")\n",
    "elif age < 30:\n",
    "    print(\"You are between 20 and 30 (10 < age < 30)\")\n",
    "else:\n",
    "    print(\"You are above 30.\")"
   ]
  },
  {
   "cell_type": "code",
   "execution_count": null,
   "metadata": {},
   "outputs": [],
   "source": [
    "num = 12\n",
    "\n",
    "if num > 0:\n",
    "    print(\"number is positive\")\n",
    "    \n",
    "    if num % 2 == 0:\n",
    "        print(\"number is even!\")\n",
    "    else:\n",
    "        print(\"number is odd!\")"
   ]
  },
  {
   "cell_type": "markdown",
   "metadata": {},
   "source": [
    "### دستور شرط میانبر \n",
    "\n",
    "مقدار `الف` اگر `شرط صحیح` در غیر این صورت مقدار `ب`\n",
    "\n",
    "`value_if_true` if `condition` else `value_if_false`"
   ]
  },
  {
   "cell_type": "code",
   "execution_count": null,
   "metadata": {},
   "outputs": [],
   "source": [
    "age = 20\n",
    "status = \"Above 18\" if age >= 18 else \"Below 18\"\n",
    "print(status)"
   ]
  },
  {
   "cell_type": "markdown",
   "metadata": {},
   "source": [
    "### استفاده از عملگر‌های منطقی"
   ]
  },
  {
   "cell_type": "code",
   "execution_count": 24,
   "metadata": {},
   "outputs": [],
   "source": [
    "is_student = True\n",
    "is_employee = False"
   ]
  },
  {
   "cell_type": "code",
   "execution_count": 28,
   "metadata": {},
   "outputs": [],
   "source": [
    "if is_student and is_employee:\n",
    "    print(\"You are student and employee.\")"
   ]
  },
  {
   "cell_type": "code",
   "execution_count": null,
   "metadata": {},
   "outputs": [],
   "source": [
    "if is_student or is_employee:\n",
    "    print(\"You are at least student or employee.\")"
   ]
  },
  {
   "cell_type": "code",
   "execution_count": null,
   "metadata": {},
   "outputs": [],
   "source": [
    "is_raining = False\n",
    "\n",
    "if not is_raining:\n",
    "    print(\"Go for a walk!\")"
   ]
  },
  {
   "cell_type": "markdown",
   "metadata": {},
   "source": [
    "### دستور `in`"
   ]
  },
  {
   "cell_type": "code",
   "execution_count": null,
   "metadata": {},
   "outputs": [],
   "source": [
    "if \"H\" in e:\n",
    "    print(f\"There is `H` in f={e}\")\n",
    "else:\n",
    "    print(f\"There is no `H` in f={e}\")"
   ]
  },
  {
   "cell_type": "code",
   "execution_count": null,
   "metadata": {},
   "outputs": [],
   "source": [
    "if 3 in f:\n",
    "    print(f\"There is `3` in f={f}\")\n",
    "else:\n",
    "    print(f\"There is no `3` in f={f}\")"
   ]
  },
  {
   "cell_type": "code",
   "execution_count": null,
   "metadata": {},
   "outputs": [],
   "source": [
    "if 10 in f:\n",
    "    print(f\"There is `10` in f={f}\")\n",
    "else:\n",
    "    print(f\"There is no `10` in f={f}\")"
   ]
  }
 ],
 "metadata": {
  "language_info": {
   "name": "python"
  }
 },
 "nbformat": 4,
 "nbformat_minor": 2
}
