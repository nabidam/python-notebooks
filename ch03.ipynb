{
 "cells": [
  {
   "cell_type": "markdown",
   "metadata": {},
   "source": [
    "## رشته‌ها"
   ]
  },
  {
   "cell_type": "code",
   "execution_count": null,
   "id": "bd8ae45f",
   "metadata": {},
   "outputs": [],
   "source": [
    "'Hello'"
   ]
  },
  {
   "cell_type": "code",
   "execution_count": null,
   "id": "01d0055e",
   "metadata": {},
   "outputs": [],
   "source": [
    "\"world\""
   ]
  },
  {
   "cell_type": "code",
   "execution_count": null,
   "id": "0295acab",
   "metadata": {},
   "outputs": [],
   "source": [
    "\"it's a small \""
   ]
  },
  {
   "cell_type": "code",
   "execution_count": null,
   "id": "cf918917",
   "metadata": {},
   "outputs": [],
   "source": [
    "'Well, '"
   ]
  },
  {
   "cell_type": "markdown",
   "metadata": {},
   "source": [
    "## عملگر‌های رشته"
   ]
  },
  {
   "cell_type": "code",
   "execution_count": null,
   "id": "aefe6af1",
   "metadata": {},
   "outputs": [],
   "source": [
    "'Well, ' + \"it's a small \" + 'world.'"
   ]
  },
  {
   "cell_type": "code",
   "execution_count": null,
   "id": "42e9e4e2",
   "metadata": {},
   "outputs": [],
   "source": [
    "'Spam, ' * 4"
   ]
  },
  {
   "cell_type": "code",
   "execution_count": null,
   "id": "a5e837db",
   "metadata": {},
   "outputs": [],
   "source": [
    "len('Spam')"
   ]
  },
  {
   "cell_type": "code",
   "execution_count": null,
   "metadata": {},
   "outputs": [],
   "source": [
    "s = \"\"\"Secretly under development for the past three years, Bezos said the \n",
    "\"Blue Moon\" lander, using a powerful new hydrogen-powered engine generating up\n",
    "to 10,000 pounds of thrust, will be capable of landing up to 6.5 metric tons \n",
    "of equipment on the lunar surface.\"\"\""
   ]
  },
  {
   "cell_type": "code",
   "execution_count": null,
   "metadata": {},
   "outputs": [],
   "source": [
    "s"
   ]
  },
  {
   "cell_type": "code",
   "execution_count": null,
   "metadata": {},
   "outputs": [],
   "source": [
    "print(s * 8)"
   ]
  },
  {
   "cell_type": "code",
   "execution_count": null,
   "metadata": {},
   "outputs": [],
   "source": [
    "print(s + s)"
   ]
  },
  {
   "cell_type": "markdown",
   "metadata": {},
   "source": [
    "## توابع رشته"
   ]
  },
  {
   "cell_type": "code",
   "execution_count": null,
   "metadata": {},
   "outputs": [],
   "source": [
    "s.find(\"lander\")"
   ]
  },
  {
   "cell_type": "code",
   "execution_count": null,
   "metadata": {},
   "outputs": [],
   "source": [
    "s.find(\"landers\")"
   ]
  },
  {
   "cell_type": "code",
   "execution_count": null,
   "metadata": {},
   "outputs": [],
   "source": [
    "s.index(\"lander\")"
   ]
  },
  {
   "cell_type": "code",
   "execution_count": null,
   "metadata": {},
   "outputs": [],
   "source": [
    "s.index(\"landers\")"
   ]
  },
  {
   "cell_type": "code",
   "execution_count": null,
   "metadata": {},
   "outputs": [],
   "source": [
    "s.replace(\"lander\", \"LANDER\")"
   ]
  },
  {
   "cell_type": "code",
   "execution_count": null,
   "metadata": {},
   "outputs": [],
   "source": [
    "a = \"   Hello World!   \""
   ]
  },
  {
   "cell_type": "code",
   "execution_count": null,
   "metadata": {},
   "outputs": [],
   "source": [
    "b = a.rstrip()\n",
    "c = a.lstrip()\n",
    "d = a.strip()"
   ]
  },
  {
   "cell_type": "code",
   "execution_count": null,
   "metadata": {},
   "outputs": [],
   "source": [
    "print(a, b, c, d, sep=\"\\n\")"
   ]
  },
  {
   "cell_type": "code",
   "execution_count": null,
   "metadata": {},
   "outputs": [],
   "source": [
    "a_splits = d.split(\" \")\n",
    "a_splits"
   ]
  },
  {
   "cell_type": "code",
   "execution_count": null,
   "metadata": {},
   "outputs": [],
   "source": [
    "\" \".join(a_splits)"
   ]
  },
  {
   "cell_type": "code",
   "execution_count": null,
   "metadata": {},
   "outputs": [],
   "source": [
    "d.upper()"
   ]
  },
  {
   "cell_type": "code",
   "execution_count": null,
   "metadata": {},
   "outputs": [],
   "source": [
    "d.lower()"
   ]
  },
  {
   "cell_type": "code",
   "execution_count": null,
   "metadata": {},
   "outputs": [],
   "source": [
    "d.capitalize()"
   ]
  },
  {
   "cell_type": "code",
   "execution_count": null,
   "metadata": {},
   "outputs": [],
   "source": [
    "d.title()"
   ]
  },
  {
   "cell_type": "code",
   "execution_count": null,
   "metadata": {},
   "outputs": [],
   "source": [
    "d.swapcase()"
   ]
  },
  {
   "cell_type": "code",
   "execution_count": null,
   "metadata": {},
   "outputs": [],
   "source": [
    "d.startswith(\"He\")"
   ]
  },
  {
   "cell_type": "code",
   "execution_count": null,
   "metadata": {},
   "outputs": [],
   "source": [
    "d.startswith(\"Wo\")"
   ]
  },
  {
   "cell_type": "code",
   "execution_count": null,
   "metadata": {},
   "outputs": [],
   "source": [
    "d.endswith(\"!\")"
   ]
  },
  {
   "cell_type": "code",
   "execution_count": null,
   "metadata": {},
   "outputs": [],
   "source": [
    "d.endswith(\".\")"
   ]
  },
  {
   "cell_type": "code",
   "execution_count": null,
   "id": "ca083ccf",
   "metadata": {},
   "outputs": [],
   "source": []
  }
 ],
 "metadata": {
  "celltoolbar": "Tags",
  "kernelspec": {
   "display_name": "Python 3 (ipykernel)",
   "language": "python",
   "name": "python3"
  },
  "language_info": {
   "codemirror_mode": {
    "name": "ipython",
    "version": 3
   },
   "file_extension": ".py",
   "mimetype": "text/x-python",
   "name": "python",
   "nbconvert_exporter": "python",
   "pygments_lexer": "ipython3",
   "version": "3.12.7"
  }
 },
 "nbformat": 4,
 "nbformat_minor": 5
}
